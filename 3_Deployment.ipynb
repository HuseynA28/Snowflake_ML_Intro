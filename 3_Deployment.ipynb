{
 "cells": [
  {
   "cell_type": "code",
   "execution_count": 131,
   "metadata": {},
   "outputs": [],
   "source": [
    "from snowflake.ml.modeling.impute import SimpleImputer\n",
    "from snowflake.ml.modeling.metrics import accuracy_score, precision_score, recall_score\n",
    "from snowflake.ml.modeling.preprocessing import OneHotEncoder\n",
    "from snowflake.ml.modeling.model_selection import GridSearchCV\n",
    "from snowflake.ml.modeling.xgboost import XGBClassifier\n",
    "from snowflake.ml.utils.connection_params import SnowflakeLoginOptions\n",
    "from snowflake.ml.registry import model_registry\n",
    "from snowflake.ml._internal.utils import identifier\n",
    "from snowflake.snowpark import Session, types as T\n",
    "from snowflake.snowpark.functions import col\n",
    "import pandas as pd\n",
    "\n",
    "import warnings\n",
    "\n",
    "warnings.simplefilter(action=\"ignore\", category=UserWarning)"
   ]
  },
  {
   "cell_type": "code",
   "execution_count": 132,
   "metadata": {},
   "outputs": [],
   "source": [
    "session = Session.builder.configs(SnowflakeLoginOptions()).getOrCreate()"
   ]
  },
  {
   "cell_type": "code",
   "execution_count": 133,
   "metadata": {},
   "outputs": [],
   "source": [
    "titanic_df = session.table(\"titanic\")"
   ]
  },
  {
   "cell_type": "code",
   "execution_count": 134,
   "metadata": {},
   "outputs": [
    {
     "name": "stdout",
     "output_type": "stream",
     "text": [
      "-------------------------------------------------------------------------------------------------------------------------------------------------------------------\n",
      "|\"SURVIVED\"  |\"PCLASS\"  |\"AGE\"  |\"SIBSP\"  |\"PARCH\"  |\"FARE\"   |\"ADULT_MALE\"  |\"DECK\"  |\"ALIVE\"  |\"ALONE\"  |\"SEX\"   |\"EMBARKED\"  |\"CLASS\"  |\"WHO\"  |\"EMBARK_TOWN\"  |\n",
      "-------------------------------------------------------------------------------------------------------------------------------------------------------------------\n",
      "|0           |3         |22.00  |1        |0        |7.2500   |True          |NULL    |False    |False    |MALE    |S           |THIRD    |MAN    |SOUTHAMPTON    |\n",
      "|1           |1         |38.00  |1        |0        |71.2833  |False         |C       |True     |False    |FEMALE  |C           |FIRST    |WOMAN  |CHERBOURG      |\n",
      "|1           |3         |26.00  |0        |0        |7.9250   |False         |NULL    |True     |True     |FEMALE  |S           |THIRD    |WOMAN  |SOUTHAMPTON    |\n",
      "|1           |1         |35.00  |1        |0        |53.1000  |False         |C       |True     |False    |FEMALE  |S           |FIRST    |WOMAN  |SOUTHAMPTON    |\n",
      "|0           |3         |35.00  |0        |0        |8.0500   |True          |NULL    |False    |True     |MALE    |S           |THIRD    |MAN    |SOUTHAMPTON    |\n",
      "|0           |3         |NULL   |0        |0        |8.4583   |True          |NULL    |False    |True     |MALE    |Q           |THIRD    |MAN    |QUEENSTOWN     |\n",
      "|0           |1         |54.00  |0        |0        |51.8625  |True          |E       |False    |True     |MALE    |S           |FIRST    |MAN    |SOUTHAMPTON    |\n",
      "|0           |3         |2.00   |3        |1        |21.0750  |False         |NULL    |False    |False    |MALE    |S           |THIRD    |CHILD  |SOUTHAMPTON    |\n",
      "|1           |3         |27.00  |0        |2        |11.1333  |False         |NULL    |True     |False    |FEMALE  |S           |THIRD    |WOMAN  |SOUTHAMPTON    |\n",
      "|1           |2         |14.00  |1        |0        |30.0708  |False         |NULL    |True     |False    |FEMALE  |C           |SECOND   |CHILD  |CHERBOURG      |\n",
      "-------------------------------------------------------------------------------------------------------------------------------------------------------------------\n",
      "\n"
     ]
    }
   ],
   "source": [
    "titanic_df.show()"
   ]
  },
  {
   "cell_type": "code",
   "execution_count": 135,
   "metadata": {},
   "outputs": [
    {
     "data": {
      "text/plain": [
       "[('SURVIVED', 0),\n",
       " ('PCLASS', 0),\n",
       " ('AGE', 177),\n",
       " ('SIBSP', 0),\n",
       " ('PARCH', 0),\n",
       " ('FARE', 0),\n",
       " ('ADULT_MALE', 0),\n",
       " ('DECK', 688),\n",
       " ('ALIVE', 0),\n",
       " ('ALONE', 0),\n",
       " ('SEX', 0),\n",
       " ('EMBARKED', 2),\n",
       " ('CLASS', 0),\n",
       " ('WHO', 0),\n",
       " ('EMBARK_TOWN', 2)]"
      ]
     },
     "execution_count": 135,
     "metadata": {},
     "output_type": "execute_result"
    }
   ],
   "source": [
    "# Columns with null values and their respective counts\n",
    "null_counts = [\n",
    "    (col_name, titanic_df.where(col(col_name).isNull()).count())\n",
    "    for col_name in titanic_df.columns\n",
    "]\n",
    "null_counts"
   ]
  },
  {
   "cell_type": "code",
   "execution_count": 136,
   "metadata": {},
   "outputs": [],
   "source": [
    "titanic_df = titanic_df.drop(\n",
    "    [\"AGE\", \"DECK\", \"ALIVE\", \"ADULT_MALE\", \"EMBARKED\", \"SEX\", \"PCLASS\", \"ALONE\"]\n",
    ")"
   ]
  },
  {
   "cell_type": "code",
   "execution_count": 137,
   "metadata": {},
   "outputs": [
    {
     "name": "stdout",
     "output_type": "stream",
     "text": [
      "------------------------------------------------------------------------------\n",
      "|\"SURVIVED\"  |\"SIBSP\"  |\"PARCH\"  |\"CLASS\"  |\"WHO\"  |\"EMBARK_TOWN\"  |\"FARE\"   |\n",
      "------------------------------------------------------------------------------\n",
      "|0           |1        |0        |THIRD    |MAN    |SOUTHAMPTON    |7.25     |\n",
      "|1           |1        |0        |FIRST    |WOMAN  |CHERBOURG      |71.2833  |\n",
      "|1           |0        |0        |THIRD    |WOMAN  |SOUTHAMPTON    |7.925    |\n",
      "|1           |1        |0        |FIRST    |WOMAN  |SOUTHAMPTON    |53.1     |\n",
      "|0           |0        |0        |THIRD    |MAN    |SOUTHAMPTON    |8.05     |\n",
      "|0           |0        |0        |THIRD    |MAN    |QUEENSTOWN     |8.4583   |\n",
      "|0           |0        |0        |FIRST    |MAN    |SOUTHAMPTON    |51.8625  |\n",
      "|0           |3        |1        |THIRD    |CHILD  |SOUTHAMPTON    |21.075   |\n",
      "|1           |0        |2        |THIRD    |WOMAN  |SOUTHAMPTON    |11.1333  |\n",
      "|1           |1        |0        |SECOND   |CHILD  |CHERBOURG      |30.0708  |\n",
      "------------------------------------------------------------------------------\n",
      "\n"
     ]
    }
   ],
   "source": [
    "titanic_df = titanic_df.withColumn(\"FARE\", titanic_df[\"FARE\"].astype(T.FloatType()))\n",
    "\n",
    "titanic_df.show()"
   ]
  },
  {
   "cell_type": "code",
   "execution_count": 138,
   "metadata": {},
   "outputs": [],
   "source": [
    "cat_cols = [\"CLASS\", \"WHO\", \"EMBARK_TOWN\"]\n",
    "num_cols = [\"SIBSP\", \"PARCH\", \"FARE\"]"
   ]
  },
  {
   "cell_type": "code",
   "execution_count": 139,
   "metadata": {},
   "outputs": [
    {
     "name": "stdout",
     "output_type": "stream",
     "text": [
      "------------------------------------------------------------------------------\n",
      "|\"CLASS\"  |\"WHO\"  |\"EMBARK_TOWN\"  |\"SURVIVED\"  |\"SIBSP\"  |\"PARCH\"  |\"FARE\"   |\n",
      "------------------------------------------------------------------------------\n",
      "|THIRD    |MAN    |SOUTHAMPTON    |0           |1        |0        |7.25     |\n",
      "|FIRST    |WOMAN  |CHERBOURG      |1           |1        |0        |71.2833  |\n",
      "|THIRD    |WOMAN  |SOUTHAMPTON    |1           |0        |0        |7.925    |\n",
      "|FIRST    |WOMAN  |SOUTHAMPTON    |1           |1        |0        |53.1     |\n",
      "|THIRD    |MAN    |SOUTHAMPTON    |0           |0        |0        |8.05     |\n",
      "|THIRD    |MAN    |QUEENSTOWN     |0           |0        |0        |8.4583   |\n",
      "|FIRST    |MAN    |SOUTHAMPTON    |0           |0        |0        |51.8625  |\n",
      "|THIRD    |CHILD  |SOUTHAMPTON    |0           |3        |1        |21.075   |\n",
      "|THIRD    |WOMAN  |SOUTHAMPTON    |1           |0        |2        |11.1333  |\n",
      "|SECOND   |CHILD  |CHERBOURG      |1           |1        |0        |30.0708  |\n",
      "------------------------------------------------------------------------------\n",
      "\n"
     ]
    }
   ],
   "source": [
    "impute_cat = SimpleImputer(\n",
    "    input_cols=cat_cols,\n",
    "    output_cols=cat_cols,\n",
    "    strategy=\"most_frequent\",\n",
    "    drop_input_cols=True,\n",
    ")\n",
    "\n",
    "titanic_df = impute_cat.fit(titanic_df).transform(titanic_df)\n",
    "titanic_df.show()"
   ]
  },
  {
   "cell_type": "code",
   "execution_count": 140,
   "metadata": {},
   "outputs": [
    {
     "name": "stdout",
     "output_type": "stream",
     "text": [
      "--------------------------------------------------------------------------------------------------------------------------------------------------------------\n",
      "|\"CLASS_SECOND\"  |\"CLASS_THIRD\"  |\"WHO_MAN\"  |\"WHO_WOMAN\"  |\"EMBARK_TOWN_QUEENSTOWN\"  |\"EMBARK_TOWN_SOUTHAMPTON\"  |\"SURVIVED\"  |\"SIBSP\"  |\"PARCH\"  |\"FARE\"   |\n",
      "--------------------------------------------------------------------------------------------------------------------------------------------------------------\n",
      "|0.0             |1.0            |1.0        |0.0          |0.0                       |1.0                        |0           |1        |0        |7.25     |\n",
      "|0.0             |0.0            |0.0        |1.0          |0.0                       |0.0                        |1           |1        |0        |71.2833  |\n",
      "|0.0             |1.0            |0.0        |1.0          |0.0                       |1.0                        |1           |0        |0        |7.925    |\n",
      "|0.0             |0.0            |0.0        |1.0          |0.0                       |1.0                        |1           |1        |0        |53.1     |\n",
      "|0.0             |1.0            |1.0        |0.0          |0.0                       |1.0                        |0           |0        |0        |8.05     |\n",
      "|0.0             |1.0            |1.0        |0.0          |1.0                       |0.0                        |0           |0        |0        |8.4583   |\n",
      "|0.0             |0.0            |1.0        |0.0          |0.0                       |1.0                        |0           |0        |0        |51.8625  |\n",
      "|0.0             |1.0            |0.0        |0.0          |0.0                       |1.0                        |0           |3        |1        |21.075   |\n",
      "|0.0             |1.0            |0.0        |1.0          |0.0                       |1.0                        |1           |0        |2        |11.1333  |\n",
      "|1.0             |0.0            |0.0        |0.0          |0.0                       |0.0                        |1           |1        |0        |30.0708  |\n",
      "--------------------------------------------------------------------------------------------------------------------------------------------------------------\n",
      "\n"
     ]
    }
   ],
   "source": [
    "OHE = OneHotEncoder(\n",
    "    input_cols=cat_cols,\n",
    "    output_cols=cat_cols,\n",
    "    drop_input_cols=True,\n",
    "    drop=\"first\",\n",
    "    handle_unknown=\"ignore\",\n",
    ")\n",
    "\n",
    "titanic_df = OHE.fit(titanic_df).transform(titanic_df)\n",
    "titanic_df.show()"
   ]
  },
  {
   "cell_type": "code",
   "execution_count": 141,
   "metadata": {},
   "outputs": [],
   "source": [
    "train_df, test_df = titanic_df.random_split(weights=[0.8, 0.2], seed=25)"
   ]
  },
  {
   "cell_type": "code",
   "execution_count": 142,
   "metadata": {},
   "outputs": [],
   "source": [
    "parameters = {\n",
    "    \"n_estimators\": [100, 200, 300, 400, 500],\n",
    "    \"learning_rate\": [0.1, 0.2, 0.3, 0.4, 0.5],\n",
    "}"
   ]
  },
  {
   "cell_type": "code",
   "execution_count": 143,
   "metadata": {},
   "outputs": [
    {
     "data": {
      "text/plain": [
       "[Row(status='Statement executed successfully.')]"
      ]
     },
     "execution_count": 143,
     "metadata": {},
     "output_type": "execute_result"
    }
   ],
   "source": [
    "session.sql(\n",
    "    f\"ALTER WAREHOUSE {session.get_current_warehouse()[1:-1]} SET WAREHOUSE_SIZE=LARGE;\"\n",
    ").collect()"
   ]
  },
  {
   "cell_type": "code",
   "execution_count": 144,
   "metadata": {},
   "outputs": [
    {
     "name": "stderr",
     "output_type": "stream",
     "text": [
      "WARNING:snowflake.snowpark.session:Package 'fastparquet' is not installed in the local environment. Your UDF might not work when the package is installed on the server but not on your local environment.\n",
      "WARNING:snowflake.snowpark.session:The version of package 'pyarrow' in the local environment is 14.0.2, which does not fit the criteria for the requirement 'pyarrow<14'. Your UDF might not work when the package version is different between the server and your local environment.\n"
     ]
    },
    {
     "data": {
      "text/plain": [
       "<snowflake.ml.modeling.model_selection.grid_search_cv.GridSearchCV at 0x7f8f82455d00>"
      ]
     },
     "execution_count": 144,
     "metadata": {},
     "output_type": "execute_result"
    }
   ],
   "source": [
    "grid_search = GridSearchCV(\n",
    "    estimator=XGBClassifier(),\n",
    "    param_grid=parameters,\n",
    "    n_jobs=-1,\n",
    "    scoring=\"accuracy\",\n",
    "    input_cols=train_df.drop(\"SURVIVED\").columns,\n",
    "    label_cols=\"SURVIVED\",\n",
    "    output_cols=\"PRED_SURVIVED\",\n",
    ")\n",
    "\n",
    "# Train\n",
    "grid_search.fit(train_df)"
   ]
  },
  {
   "cell_type": "code",
   "execution_count": 145,
   "metadata": {},
   "outputs": [
    {
     "data": {
      "text/plain": [
       "[Row(status='Statement executed successfully.')]"
      ]
     },
     "execution_count": 145,
     "metadata": {},
     "output_type": "execute_result"
    }
   ],
   "source": [
    "session.sql(\n",
    "    f\"ALTER WAREHOUSE {session.get_current_warehouse()[1:-1]} SET WAREHOUSE_SIZE=XSMALL;\"\n",
    ").collect()"
   ]
  },
  {
   "cell_type": "code",
   "execution_count": 146,
   "metadata": {},
   "outputs": [],
   "source": [
    "result = grid_search.predict(test_df)"
   ]
  },
  {
   "cell_type": "code",
   "execution_count": 147,
   "metadata": {},
   "outputs": [
    {
     "name": "stdout",
     "output_type": "stream",
     "text": [
      "Accuracy: 0.819095\n"
     ]
    }
   ],
   "source": [
    "accuracy = accuracy_score(\n",
    "    df=result, y_true_col_names=\"SURVIVED\", y_pred_col_names=\"PRED_SURVIVED\"\n",
    ")\n",
    "\n",
    "print(f\"Accuracy: {accuracy}\")"
   ]
  },
  {
   "cell_type": "code",
   "execution_count": 148,
   "metadata": {},
   "outputs": [
    {
     "data": {
      "text/html": [
       "<div>\n",
       "<style scoped>\n",
       "    .dataframe tbody tr th:only-of-type {\n",
       "        vertical-align: middle;\n",
       "    }\n",
       "\n",
       "    .dataframe tbody tr th {\n",
       "        vertical-align: top;\n",
       "    }\n",
       "\n",
       "    .dataframe thead th {\n",
       "        text-align: right;\n",
       "    }\n",
       "</style>\n",
       "<table border=\"1\" class=\"dataframe\">\n",
       "  <thead>\n",
       "    <tr style=\"text-align: right;\">\n",
       "      <th></th>\n",
       "      <th>accuracy</th>\n",
       "      <th>learning_rate</th>\n",
       "      <th>n_estimators</th>\n",
       "    </tr>\n",
       "  </thead>\n",
       "  <tbody>\n",
       "    <tr>\n",
       "      <th>0</th>\n",
       "      <td>0.828099</td>\n",
       "      <td>0.1</td>\n",
       "      <td>100</td>\n",
       "    </tr>\n",
       "    <tr>\n",
       "      <th>14</th>\n",
       "      <td>0.826723</td>\n",
       "      <td>0.3</td>\n",
       "      <td>500</td>\n",
       "    </tr>\n",
       "    <tr>\n",
       "      <th>13</th>\n",
       "      <td>0.825274</td>\n",
       "      <td>0.3</td>\n",
       "      <td>400</td>\n",
       "    </tr>\n",
       "    <tr>\n",
       "      <th>1</th>\n",
       "      <td>0.825242</td>\n",
       "      <td>0.1</td>\n",
       "      <td>200</td>\n",
       "    </tr>\n",
       "    <tr>\n",
       "      <th>17</th>\n",
       "      <td>0.823845</td>\n",
       "      <td>0.4</td>\n",
       "      <td>300</td>\n",
       "    </tr>\n",
       "  </tbody>\n",
       "</table>\n",
       "</div>"
      ],
      "text/plain": [
       "    accuracy  learning_rate  n_estimators\n",
       "0   0.828099            0.1           100\n",
       "14  0.826723            0.3           500\n",
       "13  0.825274            0.3           400\n",
       "1   0.825242            0.1           200\n",
       "17  0.823845            0.4           300"
      ]
     },
     "execution_count": 148,
     "metadata": {},
     "output_type": "execute_result"
    }
   ],
   "source": [
    "# Print each combination of hyperparameters with their accuracy\n",
    "results = grid_search.to_sklearn().cv_results_\n",
    "data = {\"accuracy\": results[\"mean_test_score\"]}\n",
    "for i, param in enumerate(results[\"params\"]):\n",
    "    for key, value in param.items():\n",
    "        if key not in data:\n",
    "            data[key] = [None] * len(results[\"params\"])\n",
    "        data[key][i] = value\n",
    "\n",
    "# Create DataFrame\n",
    "hp_df = pd.DataFrame(data).sort_values(by='accuracy', ascending=False)\n",
    "hp_df.head()"
   ]
  },
  {
   "cell_type": "markdown",
   "metadata": {},
   "source": [
    "# Model Registry\n"
   ]
  },
  {
   "cell_type": "code",
   "execution_count": 149,
   "metadata": {},
   "outputs": [],
   "source": [
    "optimal_model = grid_search.to_sklearn().best_estimator_\n",
    "optimal_n_estimators = optimal_model.n_estimators\n",
    "optimal_learning_rate = optimal_model.learning_rate\n",
    "optimal_accuracy = hp_df[\"accuracy\"][0]"
   ]
  },
  {
   "cell_type": "code",
   "execution_count": 150,
   "metadata": {},
   "outputs": [],
   "source": [
    "#create function to add one to our model number if it already exists\n",
    "def model_version_update(df, name):\n",
    "    filtered_df = df.filter(col('NAME') == name)\n",
    "    if df.count() == 0:\n",
    "        return 1\n",
    "    else:\n",
    "        filtered_df = filtered_df.withColumn(\"VERSION\", filtered_df[\"VERSION\"].cast(\"int\"))\n",
    "        max_version = filtered_df.agg({\"VERSION\": \"max\"}).collect()[0][0]\n",
    "        return max_version + 1"
   ]
  },
  {
   "cell_type": "code",
   "execution_count": 151,
   "metadata": {},
   "outputs": [
    {
     "name": "stderr",
     "output_type": "stream",
     "text": [
      "WARNING:absl:The database SNOWPARK already exists. Skipping creation.\n",
      "WARNING:absl:The schema SNOWPARK.TITANIC already exists. Skipping creation.\n"
     ]
    }
   ],
   "source": [
    "# Get sample input data to pass into the registry logging function\n",
    "X = train_df.drop(\"SURVIVED\").limit(100)\n",
    "\n",
    "db = identifier._get_unescaped_name(session.get_current_database())\n",
    "schema = identifier._get_unescaped_name(session.get_current_schema())\n",
    "\n",
    "# Define model name and version\n",
    "model_name = \"titanic\"\n",
    "\n",
    "# Create a registry and log the model\n",
    "registry = model_registry.ModelRegistry(\n",
    "    session=session, database_name=db, schema_name=schema, create_if_not_exists=True\n",
    ")\n",
    "\n",
    "reg_df = registry.list_models()\n",
    "model_version = model_version_update(reg_df, model_name)\n",
    "\n",
    "registry.log_model(\n",
    "    model_name=model_name,\n",
    "    model_version=model_version,\n",
    "    model=optimal_model,\n",
    "    sample_input_data=X,\n",
    "    options={\n",
    "        \"embed_local_ml_library\": True,  # This option is enabled to pull latest dev code changes.\n",
    "        \"relax\": True,\n",
    "    },  # relax dependencies\n",
    ")\n",
    "\n",
    "# Add evaluation metric\n",
    "registry.set_metric(\n",
    "    model_name=model_name,\n",
    "    model_version=model_version,\n",
    "    metric_name=\"accuracy\",\n",
    "    metric_value=optimal_accuracy,\n",
    ")"
   ]
  },
  {
   "cell_type": "code",
   "execution_count": 152,
   "metadata": {},
   "outputs": [
    {
     "name": "stdout",
     "output_type": "stream",
     "text": [
      "-------------------------------------------------------------------------------------------------------------------------------------------------------------------------------------------------------------------------------------------------------------------------------------------------------------------------------------------------------------------------------------------------------------\n",
      "|\"CREATION_CONTEXT\"  |\"CREATION_ENVIRONMENT_SPEC\"  |\"CREATION_ROLE\"  |\"CREATION_TIME\"                   |\"ID\"                              |\"INPUT_SPEC\"  |\"NAME\"   |\"OUTPUT_SPEC\"  |\"RUNTIME_ENVIRONMENT_SPEC\"  |\"TYPE\"   |\"URI\"                                               |\"VERSION\"  |\"ARTIFACT_IDS\"  |\"DESCRIPTION\"  |\"METRICS\"                         |\"TAGS\"  |\"REGISTRATION_TIMESTAMP\"          |\n",
      "-------------------------------------------------------------------------------------------------------------------------------------------------------------------------------------------------------------------------------------------------------------------------------------------------------------------------------------------------------------------------------------------------------------\n",
      "|NULL                |{                            |\"SYSADMIN\"       |2024-01-09 06:15:36.628000-08:00  |8b9b7a70aef911eeba2f367ddad5f27b  |NULL          |titanic  |NULL           |NULL                        |xgboost  |sfc://SNOWPARK.TITANIC.SNOWML_MODEL_8B9B7A70AEF...  |3          |NULL            |NULL           |{                                 |NULL    |2024-01-09 06:15:37.658000-08:00  |\n",
      "|                    |  \"python\": \"3.9.18\"         |                 |                                  |                                  |              |         |               |                            |         |                                                    |           |                |               |  \"accuracy\": 0.8190133607399794  |        |                                  |\n",
      "|                    |}                            |                 |                                  |                                  |              |         |               |                            |         |                                                    |           |                |               |}                                 |        |                                  |\n",
      "|NULL                |{                            |\"SYSADMIN\"       |2024-01-09 06:13:54.197000-08:00  |4e69d232aef911eeba2f367ddad5f27b  |NULL          |titanic  |NULL           |NULL                        |xgboost  |sfc://SNOWPARK.TITANIC.SNOWML_MODEL_4E69D232AEF...  |2          |NULL            |NULL           |{                                 |NULL    |2024-01-09 06:13:55.172000-08:00  |\n",
      "|                    |  \"python\": \"3.9.18\"         |                 |                                  |                                  |              |         |               |                            |         |                                                    |           |                |               |  \"accuracy\": 0.8093414387031409  |        |                                  |\n",
      "|                    |}                            |                 |                                  |                                  |              |         |               |                            |         |                                                    |           |                |               |}                                 |        |                                  |\n",
      "|NULL                |{                            |\"SYSADMIN\"       |2024-01-09 09:43:01.165000-08:00  |85d29458af1611eeba2f367ddad5f27b  |NULL          |titanic  |NULL           |NULL                        |xgboost  |sfc://SNOWPARK.TITANIC.SNOWML_MODEL_85D29458AF1...  |4          |NULL            |NULL           |{                                 |NULL    |2024-01-09 09:43:02.414000-08:00  |\n",
      "|                    |  \"python\": \"3.9.18\"         |                 |                                  |                                  |              |         |               |                            |         |                                                    |           |                |               |  \"accuracy\": 0.8280992597226566  |        |                                  |\n",
      "|                    |}                            |                 |                                  |                                  |              |         |               |                            |         |                                                    |           |                |               |}                                 |        |                                  |\n",
      "|NULL                |{                            |\"SYSADMIN\"       |2024-01-09 06:08:26.383000-08:00  |8a261aacaef811eeba2f367ddad5f27b  |NULL          |titanic  |NULL           |NULL                        |xgboost  |sfc://SNOWPARK.TITANIC.SNOWML_MODEL_8A261AACAEF...  |1          |NULL            |NULL           |{                                 |NULL    |2024-01-09 06:08:27.498000-08:00  |\n",
      "|                    |  \"python\": \"3.9.18\"         |                 |                                  |                                  |              |         |               |                            |         |                                                    |           |                |               |  \"accuracy\": 0.8093414387031409  |        |                                  |\n",
      "|                    |}                            |                 |                                  |                                  |              |         |               |                            |         |                                                    |           |                |               |}                                 |        |                                  |\n",
      "-------------------------------------------------------------------------------------------------------------------------------------------------------------------------------------------------------------------------------------------------------------------------------------------------------------------------------------------------------------------------------------------------------------\n",
      "\n"
     ]
    }
   ],
   "source": [
    "# Let's confirm it was added\n",
    "reg_df.show()"
   ]
  },
  {
   "cell_type": "markdown",
   "metadata": {},
   "source": [
    "If you have multiple versions of the model, we want the UDF to be deployed as the version with the highest accuracy"
   ]
  },
  {
   "cell_type": "code",
   "execution_count": 153,
   "metadata": {},
   "outputs": [
    {
     "name": "stdout",
     "output_type": "stream",
     "text": [
      "--------------------------------------------\n",
      "|\"NAME\"   |\"VERSION\"  |\"ACCURACY\"          |\n",
      "--------------------------------------------\n",
      "|titanic  |3          |0.8190133607399794  |\n",
      "|titanic  |2          |0.8093414387031409  |\n",
      "|titanic  |4          |0.8280992597226566  |\n",
      "|titanic  |1          |0.8093414387031409  |\n",
      "--------------------------------------------\n",
      "\n"
     ]
    }
   ],
   "source": [
    "best_model = (\n",
    "    reg_df.flatten(reg_df[\"METRICS\"])\n",
    "    .filter(col(\"KEY\") == \"accuracy\")\n",
    "    .select(\"name\", \"VERSION\", col(\"value\").as_(\"ACCURACY\"))\n",
    ")\n",
    "best_model.show()"
   ]
  },
  {
   "cell_type": "markdown",
   "metadata": {},
   "source": [
    "Get the best model and version"
   ]
  },
  {
   "cell_type": "code",
   "execution_count": 154,
   "metadata": {},
   "outputs": [],
   "source": [
    "deployed_version = best_model.sort(col('ACCURACY'), ascending=False).limit(1).collect()[0][1]"
   ]
  },
  {
   "cell_type": "code",
   "execution_count": 155,
   "metadata": {},
   "outputs": [],
   "source": [
    "# We can always get a reference to our registry and model using this function call\n",
    "model_ref = model_registry.ModelReference(\n",
    "    registry=registry, model_name=model_name, model_version=deployed_version\n",
    ")"
   ]
  },
  {
   "cell_type": "code",
   "execution_count": 156,
   "metadata": {},
   "outputs": [
    {
     "data": {
      "text/plain": [
       "{'name': 'SNOWPARK.TITANIC.survival_pred',\n",
       " 'platform': <TargetPlatform.WAREHOUSE: 'warehouse'>,\n",
       " 'target_method': 'predict',\n",
       " 'signature': ModelSignature(\n",
       "                     inputs=[\n",
       "                         FeatureSpec(dtype=DataType.DOUBLE, name='CLASS_SECOND'),\n",
       " \t\tFeatureSpec(dtype=DataType.DOUBLE, name='CLASS_THIRD'),\n",
       " \t\tFeatureSpec(dtype=DataType.DOUBLE, name='WHO_MAN'),\n",
       " \t\tFeatureSpec(dtype=DataType.DOUBLE, name='WHO_WOMAN'),\n",
       " \t\tFeatureSpec(dtype=DataType.DOUBLE, name='EMBARK_TOWN_QUEENSTOWN'),\n",
       " \t\tFeatureSpec(dtype=DataType.DOUBLE, name='EMBARK_TOWN_SOUTHAMPTON'),\n",
       " \t\tFeatureSpec(dtype=DataType.INT8, name='SIBSP'),\n",
       " \t\tFeatureSpec(dtype=DataType.INT8, name='PARCH'),\n",
       " \t\tFeatureSpec(dtype=DataType.DOUBLE, name='FARE')\n",
       "                     ],\n",
       "                     outputs=[\n",
       "                         FeatureSpec(dtype=DataType.INT64, name='output_feature_0')\n",
       "                     ]\n",
       "                 ),\n",
       " 'options': {'replace_udf': 'True',\n",
       "  'permanent_udf_stage_location': '@SNOWPARK.TITANIC._SYSTEM_REGISTRY_DEPLOYMENTS_STAGE/survival_pred/'},\n",
       " 'details': {}}"
      ]
     },
     "execution_count": 156,
     "metadata": {},
     "output_type": "execute_result"
    }
   ],
   "source": [
    "model_deployment_name = \"survival_pred\"\n",
    "\n",
    "model_ref.deploy(\n",
    "    deployment_name=\"survival_pred\",\n",
    "    target_method=\"predict\",  # the name of the model's method, usually predict\n",
    "    permanent=True,\n",
    "        options={\n",
    "        \"replace_udf\": \"True\",\n",
    "    }\n",
    ")"
   ]
  },
  {
   "cell_type": "code",
   "execution_count": 157,
   "metadata": {},
   "outputs": [
    {
     "data": {
      "text/html": [
       "<div>\n",
       "<style scoped>\n",
       "    .dataframe tbody tr th:only-of-type {\n",
       "        vertical-align: middle;\n",
       "    }\n",
       "\n",
       "    .dataframe tbody tr th {\n",
       "        vertical-align: top;\n",
       "    }\n",
       "\n",
       "    .dataframe thead th {\n",
       "        text-align: right;\n",
       "    }\n",
       "</style>\n",
       "<table border=\"1\" class=\"dataframe\">\n",
       "  <thead>\n",
       "    <tr style=\"text-align: right;\">\n",
       "      <th></th>\n",
       "      <th>MODEL_NAME</th>\n",
       "      <th>MODEL_VERSION</th>\n",
       "      <th>DEPLOYMENT_NAME</th>\n",
       "      <th>CREATION_TIME</th>\n",
       "      <th>TARGET_METHOD</th>\n",
       "      <th>TARGET_PLATFORM</th>\n",
       "      <th>SIGNATURE</th>\n",
       "      <th>OPTIONS</th>\n",
       "      <th>STAGE_PATH</th>\n",
       "      <th>ROLE</th>\n",
       "    </tr>\n",
       "  </thead>\n",
       "  <tbody>\n",
       "    <tr>\n",
       "      <th>0</th>\n",
       "      <td>titanic</td>\n",
       "      <td>4</td>\n",
       "      <td>survival_pred</td>\n",
       "      <td>2024-01-09 09:43:16.194000-08:00</td>\n",
       "      <td>predict</td>\n",
       "      <td>warehouse</td>\n",
       "      <td>{\\n  \"inputs\": [\\n    {\\n      \"name\": \"CLASS_...</td>\n",
       "      <td>{\\n  \"permanent_udf_stage_location\": \"@SNOWPAR...</td>\n",
       "      <td>@SNOWPARK.TITANIC._SYSTEM_REGISTRY_DEPLOYMENTS...</td>\n",
       "      <td>\"SYSADMIN\"</td>\n",
       "    </tr>\n",
       "  </tbody>\n",
       "</table>\n",
       "</div>"
      ],
      "text/plain": [
       "  MODEL_NAME MODEL_VERSION DEPLOYMENT_NAME                    CREATION_TIME  \\\n",
       "0    titanic             4   survival_pred 2024-01-09 09:43:16.194000-08:00   \n",
       "\n",
       "  TARGET_METHOD TARGET_PLATFORM  \\\n",
       "0       predict       warehouse   \n",
       "\n",
       "                                           SIGNATURE  \\\n",
       "0  {\\n  \"inputs\": [\\n    {\\n      \"name\": \"CLASS_...   \n",
       "\n",
       "                                             OPTIONS  \\\n",
       "0  {\\n  \"permanent_udf_stage_location\": \"@SNOWPAR...   \n",
       "\n",
       "                                          STAGE_PATH        ROLE  \n",
       "0  @SNOWPARK.TITANIC._SYSTEM_REGISTRY_DEPLOYMENTS...  \"SYSADMIN\"  "
      ]
     },
     "execution_count": 157,
     "metadata": {},
     "output_type": "execute_result"
    }
   ],
   "source": [
    "# Let's confirm it was added\n",
    "registry.list_deployments(model_name, model_version).to_pandas()"
   ]
  },
  {
   "cell_type": "code",
   "execution_count": 158,
   "metadata": {},
   "outputs": [
    {
     "name": "stdout",
     "output_type": "stream",
     "text": [
      "-----------------------------------------------------------------------------------------------------------------------------------------------------------------------------------\n",
      "|\"CLASS_SECOND\"  |\"CLASS_THIRD\"  |\"WHO_MAN\"  |\"WHO_WOMAN\"  |\"EMBARK_TOWN_QUEENSTOWN\"  |\"EMBARK_TOWN_SOUTHAMPTON\"  |\"SURVIVED\"  |\"SIBSP\"  |\"PARCH\"  |\"FARE\"   |\"output_feature_0\"  |\n",
      "-----------------------------------------------------------------------------------------------------------------------------------------------------------------------------------\n",
      "|0.0             |0.0            |1.0        |0.0          |0.0                       |1.0                        |0           |0        |0        |51.8625  |0                   |\n",
      "|0.0             |1.0            |0.0        |0.0          |1.0                       |0.0                        |0           |4        |1        |29.125   |0                   |\n",
      "|1.0             |0.0            |1.0        |0.0          |0.0                       |1.0                        |1           |0        |0        |13.0     |0                   |\n",
      "|0.0             |1.0            |0.0        |1.0          |0.0                       |1.0                        |0           |1        |0        |9.475    |0                   |\n",
      "|0.0             |1.0            |1.0        |0.0          |0.0                       |1.0                        |0           |0        |0        |8.05     |0                   |\n",
      "|0.0             |1.0            |1.0        |0.0          |1.0                       |0.0                        |0           |1        |0        |15.5     |0                   |\n",
      "|0.0             |1.0            |1.0        |0.0          |0.0                       |1.0                        |0           |0        |0        |7.8      |0                   |\n",
      "|1.0             |0.0            |0.0        |0.0          |0.0                       |1.0                        |1           |1        |2        |27.75    |1                   |\n",
      "|1.0             |0.0            |1.0        |0.0          |0.0                       |1.0                        |0           |0        |0        |73.5     |0                   |\n",
      "|0.0             |1.0            |0.0        |1.0          |1.0                       |0.0                        |1           |0        |0        |7.7875   |1                   |\n",
      "-----------------------------------------------------------------------------------------------------------------------------------------------------------------------------------\n",
      "\n"
     ]
    }
   ],
   "source": [
    "# We can then use the deployed model to perform inference\n",
    "result_sdf = model_ref.predict(deployment_name=\"survival_pred\", data=test_df)\n",
    "# result_sdf.rename(F.col('\"output_feature_0\"'),\"PREDICTED_PRICE\").show()\n",
    "result_sdf.show()"
   ]
  },
  {
   "cell_type": "code",
   "execution_count": 159,
   "metadata": {},
   "outputs": [
    {
     "name": "stdout",
     "output_type": "stream",
     "text": [
      "-----------------------------------------------------------------------------------------------------------------------------------------------------------------------------------\n",
      "|\"CLASS_SECOND\"  |\"CLASS_THIRD\"  |\"WHO_MAN\"  |\"WHO_WOMAN\"  |\"EMBARK_TOWN_QUEENSTOWN\"  |\"EMBARK_TOWN_SOUTHAMPTON\"  |\"SURVIVED\"  |\"SIBSP\"  |\"PARCH\"  |\"FARE\"   |\"output_feature_0\"  |\n",
      "-----------------------------------------------------------------------------------------------------------------------------------------------------------------------------------\n",
      "|0.0             |0.0            |1.0        |0.0          |0.0                       |1.0                        |0           |0        |0        |51.8625  |0                   |\n",
      "|0.0             |1.0            |0.0        |0.0          |1.0                       |0.0                        |0           |4        |1        |29.125   |0                   |\n",
      "|1.0             |0.0            |1.0        |0.0          |0.0                       |1.0                        |1           |0        |0        |13.0     |0                   |\n",
      "|0.0             |1.0            |0.0        |1.0          |0.0                       |1.0                        |0           |1        |0        |9.475    |0                   |\n",
      "|0.0             |1.0            |1.0        |0.0          |0.0                       |1.0                        |0           |0        |0        |8.05     |0                   |\n",
      "|0.0             |1.0            |1.0        |0.0          |1.0                       |0.0                        |0           |1        |0        |15.5     |0                   |\n",
      "|0.0             |1.0            |1.0        |0.0          |0.0                       |1.0                        |0           |0        |0        |7.8      |0                   |\n",
      "|1.0             |0.0            |0.0        |0.0          |0.0                       |1.0                        |1           |1        |2        |27.75    |1                   |\n",
      "|1.0             |0.0            |1.0        |0.0          |0.0                       |1.0                        |0           |0        |0        |73.5     |0                   |\n",
      "|0.0             |1.0            |0.0        |1.0          |1.0                       |0.0                        |1           |0        |0        |7.7875   |1                   |\n",
      "-----------------------------------------------------------------------------------------------------------------------------------------------------------------------------------\n",
      "\n"
     ]
    }
   ],
   "source": [
    "model_ref.predict(\"survival_pred\", test_df).show()"
   ]
  },
  {
   "cell_type": "code",
   "execution_count": 160,
   "metadata": {},
   "outputs": [],
   "source": [
    "test_df.write.mode(\"overwrite\").save_as_table(\"TEST_DATA\")"
   ]
  },
  {
   "cell_type": "code",
   "execution_count": 161,
   "metadata": {},
   "outputs": [
    {
     "data": {
      "text/plain": [
       "{'name': 'SNOWPARK.TITANIC.survival_pred_proba',\n",
       " 'platform': <TargetPlatform.WAREHOUSE: 'warehouse'>,\n",
       " 'target_method': 'predict_proba',\n",
       " 'signature': ModelSignature(\n",
       "                     inputs=[\n",
       "                         FeatureSpec(dtype=DataType.DOUBLE, name='CLASS_SECOND'),\n",
       " \t\tFeatureSpec(dtype=DataType.DOUBLE, name='CLASS_THIRD'),\n",
       " \t\tFeatureSpec(dtype=DataType.DOUBLE, name='WHO_MAN'),\n",
       " \t\tFeatureSpec(dtype=DataType.DOUBLE, name='WHO_WOMAN'),\n",
       " \t\tFeatureSpec(dtype=DataType.DOUBLE, name='EMBARK_TOWN_QUEENSTOWN'),\n",
       " \t\tFeatureSpec(dtype=DataType.DOUBLE, name='EMBARK_TOWN_SOUTHAMPTON'),\n",
       " \t\tFeatureSpec(dtype=DataType.INT8, name='SIBSP'),\n",
       " \t\tFeatureSpec(dtype=DataType.INT8, name='PARCH'),\n",
       " \t\tFeatureSpec(dtype=DataType.DOUBLE, name='FARE')\n",
       "                     ],\n",
       "                     outputs=[\n",
       "                         FeatureSpec(dtype=DataType.FLOAT, name='output_feature_0'),\n",
       " \t\tFeatureSpec(dtype=DataType.FLOAT, name='output_feature_1')\n",
       "                     ]\n",
       "                 ),\n",
       " 'options': {'replace_udf': 'True',\n",
       "  'permanent_udf_stage_location': '@SNOWPARK.TITANIC._SYSTEM_REGISTRY_DEPLOYMENTS_STAGE/survival_pred_proba/'},\n",
       " 'details': {}}"
      ]
     },
     "execution_count": 161,
     "metadata": {},
     "output_type": "execute_result"
    }
   ],
   "source": [
    "model_deployment_name = \"survival_pred_proba\"\n",
    "\n",
    "model_ref.deploy(\n",
    "    deployment_name=\"survival_pred_proba\",\n",
    "    target_method=\"predict_proba\",  # the name of the model's method, usually predict\n",
    "    permanent=True,\n",
    "    options={\n",
    "        \"replace_udf\": \"True\",\n",
    "    }\n",
    ")"
   ]
  },
  {
   "cell_type": "code",
   "execution_count": 162,
   "metadata": {},
   "outputs": [
    {
     "name": "stdout",
     "output_type": "stream",
     "text": [
      "----------------------------------------------------------------------------------------------------------------------------------------------------------------------------------------------------------\n",
      "|\"CLASS_SECOND\"  |\"CLASS_THIRD\"  |\"WHO_MAN\"  |\"WHO_WOMAN\"  |\"EMBARK_TOWN_QUEENSTOWN\"  |\"EMBARK_TOWN_SOUTHAMPTON\"  |\"SURVIVED\"  |\"SIBSP\"  |\"PARCH\"  |\"FARE\"   |\"output_feature_0\"   |\"output_feature_1\"   |\n",
      "----------------------------------------------------------------------------------------------------------------------------------------------------------------------------------------------------------\n",
      "|0.0             |0.0            |1.0        |0.0          |0.0                       |1.0                        |0           |0        |0        |51.8625  |0.7811152338981628   |0.21888476610183716  |\n",
      "|0.0             |1.0            |0.0        |0.0          |1.0                       |0.0                        |0           |4        |1        |29.125   |0.9667628407478333   |0.03323715552687645  |\n",
      "|1.0             |0.0            |1.0        |0.0          |0.0                       |1.0                        |1           |0        |0        |13.0     |0.8805450797080994   |0.11945492029190063  |\n",
      "|0.0             |1.0            |0.0        |1.0          |0.0                       |1.0                        |0           |1        |0        |9.475    |0.8205075263977051   |0.17949248850345612  |\n",
      "|0.0             |1.0            |1.0        |0.0          |0.0                       |1.0                        |0           |0        |0        |8.05     |0.8724297285079956   |0.1275702714920044   |\n",
      "|0.0             |1.0            |1.0        |0.0          |1.0                       |0.0                        |0           |1        |0        |15.5     |0.8284012675285339   |0.17159874737262726  |\n",
      "|0.0             |1.0            |1.0        |0.0          |0.0                       |1.0                        |0           |0        |0        |7.8      |0.8533191084861755   |0.14668087661266327  |\n",
      "|1.0             |0.0            |0.0        |0.0          |0.0                       |1.0                        |1           |1        |2        |27.75    |0.08586364984512329  |0.9141363501548768   |\n",
      "|1.0             |0.0            |1.0        |0.0          |0.0                       |1.0                        |0           |0        |0        |73.5     |0.9489476084709167   |0.05105237290263176  |\n",
      "|0.0             |1.0            |0.0        |1.0          |1.0                       |0.0                        |1           |0        |0        |7.7875   |0.1455777883529663   |0.8544222116470337   |\n",
      "----------------------------------------------------------------------------------------------------------------------------------------------------------------------------------------------------------\n",
      "\n"
     ]
    }
   ],
   "source": [
    "model_ref.predict(\"survival_pred_proba\", test_df).drop(\"output_feature_0\").show()"
   ]
  },
  {
   "cell_type": "markdown",
   "metadata": {},
   "source": [
    "## Add images to stage for Streamlit App\n"
   ]
  },
  {
   "cell_type": "code",
   "execution_count": 163,
   "metadata": {},
   "outputs": [
    {
     "data": {
      "text/plain": [
       "[PutResult(source='floating.webp', target='floating.webp.gz', source_size=205540, target_size=0, source_compression='NONE', target_compression='GZIP', status='SKIPPED', message=''),\n",
       " PutResult(source='flying.webp', target='flying.webp.gz', source_size=77798, target_size=0, source_compression='NONE', target_compression='GZIP', status='SKIPPED', message=''),\n",
       " PutResult(source='sinking.webp', target='sinking.webp.gz', source_size=148802, target_size=0, source_compression='NONE', target_compression='GZIP', status='SKIPPED', message='')]"
      ]
     },
     "execution_count": 163,
     "metadata": {},
     "output_type": "execute_result"
    }
   ],
   "source": [
    "session.file.put(\"streamlit_images/*\", \"@ML_DATA\")"
   ]
  }
 ],
 "metadata": {
  "kernelspec": {
   "display_name": "Python 3",
   "language": "python",
   "name": "python3"
  },
  "language_info": {
   "codemirror_mode": {
    "name": "ipython",
    "version": 3
   },
   "file_extension": ".py",
   "mimetype": "text/x-python",
   "name": "python",
   "nbconvert_exporter": "python",
   "pygments_lexer": "ipython3",
   "version": "3.9.18"
  }
 },
 "nbformat": 4,
 "nbformat_minor": 2
}
