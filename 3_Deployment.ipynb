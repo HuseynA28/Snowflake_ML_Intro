{
 "cells": [
  {
   "cell_type": "code",
   "execution_count": 21,
   "metadata": {},
   "outputs": [],
   "source": [
    "from snowflake.ml.modeling.impute import SimpleImputer\n",
    "from snowflake.ml.modeling.metrics import accuracy_score, precision_score, recall_score\n",
    "from snowflake.ml.modeling.preprocessing import OneHotEncoder\n",
    "from snowflake.ml.modeling.model_selection import GridSearchCV\n",
    "from snowflake.ml.modeling.xgboost import XGBClassifier\n",
    "from snowflake.ml.utils.connection_params import SnowflakeLoginOptions\n",
    "from snowflake.ml.registry import model_registry\n",
    "from snowflake.ml._internal.utils import identifier\n",
    "from snowflake.snowpark import Session, types as T\n",
    "from snowflake.snowpark.functions import col\n",
    "import pandas as pd\n",
    "\n",
    "import warnings\n",
    "\n",
    "warnings.simplefilter(action=\"ignore\", category=UserWarning)"
   ]
  },
  {
   "cell_type": "code",
   "execution_count": 22,
   "metadata": {},
   "outputs": [],
   "source": [
    "session = Session.builder.configs(SnowflakeLoginOptions()).getOrCreate()"
   ]
  },
  {
   "cell_type": "code",
   "execution_count": 23,
   "metadata": {},
   "outputs": [],
   "source": [
    "titanic_df = session.table(\"titanic\")"
   ]
  },
  {
   "cell_type": "code",
   "execution_count": 24,
   "metadata": {},
   "outputs": [
    {
     "name": "stdout",
     "output_type": "stream",
     "text": [
      "-------------------------------------------------------------------------------------------------------------------------------------------------------------------\n",
      "|\"SURVIVED\"  |\"PCLASS\"  |\"AGE\"  |\"SIBSP\"  |\"PARCH\"  |\"FARE\"   |\"ADULT_MALE\"  |\"DECK\"  |\"ALIVE\"  |\"ALONE\"  |\"SEX\"   |\"EMBARKED\"  |\"CLASS\"  |\"WHO\"  |\"EMBARK_TOWN\"  |\n",
      "-------------------------------------------------------------------------------------------------------------------------------------------------------------------\n",
      "|0           |3         |22.00  |1        |0        |7.2500   |True          |NULL    |False    |False    |MALE    |S           |THIRD    |MAN    |SOUTHAMPTON    |\n",
      "|1           |1         |38.00  |1        |0        |71.2833  |False         |C       |True     |False    |FEMALE  |C           |FIRST    |WOMAN  |CHERBOURG      |\n",
      "|1           |3         |26.00  |0        |0        |7.9250   |False         |NULL    |True     |True     |FEMALE  |S           |THIRD    |WOMAN  |SOUTHAMPTON    |\n",
      "|1           |1         |35.00  |1        |0        |53.1000  |False         |C       |True     |False    |FEMALE  |S           |FIRST    |WOMAN  |SOUTHAMPTON    |\n",
      "|0           |3         |35.00  |0        |0        |8.0500   |True          |NULL    |False    |True     |MALE    |S           |THIRD    |MAN    |SOUTHAMPTON    |\n",
      "|0           |3         |NULL   |0        |0        |8.4583   |True          |NULL    |False    |True     |MALE    |Q           |THIRD    |MAN    |QUEENSTOWN     |\n",
      "|0           |1         |54.00  |0        |0        |51.8625  |True          |E       |False    |True     |MALE    |S           |FIRST    |MAN    |SOUTHAMPTON    |\n",
      "|0           |3         |2.00   |3        |1        |21.0750  |False         |NULL    |False    |False    |MALE    |S           |THIRD    |CHILD  |SOUTHAMPTON    |\n",
      "|1           |3         |27.00  |0        |2        |11.1333  |False         |NULL    |True     |False    |FEMALE  |S           |THIRD    |WOMAN  |SOUTHAMPTON    |\n",
      "|1           |2         |14.00  |1        |0        |30.0708  |False         |NULL    |True     |False    |FEMALE  |C           |SECOND   |CHILD  |CHERBOURG      |\n",
      "-------------------------------------------------------------------------------------------------------------------------------------------------------------------\n",
      "\n"
     ]
    }
   ],
   "source": [
    "titanic_df.show()"
   ]
  },
  {
   "cell_type": "code",
   "execution_count": 25,
   "metadata": {},
   "outputs": [
    {
     "data": {
      "text/plain": [
       "[('SURVIVED', 0),\n",
       " ('PCLASS', 0),\n",
       " ('AGE', 177),\n",
       " ('SIBSP', 0),\n",
       " ('PARCH', 0),\n",
       " ('FARE', 0),\n",
       " ('ADULT_MALE', 0),\n",
       " ('DECK', 688),\n",
       " ('ALIVE', 0),\n",
       " ('ALONE', 0),\n",
       " ('SEX', 0),\n",
       " ('EMBARKED', 2),\n",
       " ('CLASS', 0),\n",
       " ('WHO', 0),\n",
       " ('EMBARK_TOWN', 2)]"
      ]
     },
     "execution_count": 25,
     "metadata": {},
     "output_type": "execute_result"
    }
   ],
   "source": [
    "# Columns with null values and their respective counts\n",
    "null_counts = [\n",
    "    (col_name, titanic_df.where(col(col_name).isNull()).count())\n",
    "    for col_name in titanic_df.columns\n",
    "]\n",
    "null_counts"
   ]
  },
  {
   "cell_type": "code",
   "execution_count": 26,
   "metadata": {},
   "outputs": [],
   "source": [
    "titanic_df = titanic_df.drop(\n",
    "    [\"AGE\", \"DECK\", \"ALIVE\", \"ADULT_MALE\", \"EMBARKED\", \"SEX\", \"PCLASS\", \"ALONE\"]\n",
    ")"
   ]
  },
  {
   "cell_type": "code",
   "execution_count": 27,
   "metadata": {},
   "outputs": [
    {
     "name": "stdout",
     "output_type": "stream",
     "text": [
      "------------------------------------------------------------------------------\n",
      "|\"SURVIVED\"  |\"SIBSP\"  |\"PARCH\"  |\"CLASS\"  |\"WHO\"  |\"EMBARK_TOWN\"  |\"FARE\"   |\n",
      "------------------------------------------------------------------------------\n",
      "|0           |1        |0        |THIRD    |MAN    |SOUTHAMPTON    |7.25     |\n",
      "|1           |1        |0        |FIRST    |WOMAN  |CHERBOURG      |71.2833  |\n",
      "|1           |0        |0        |THIRD    |WOMAN  |SOUTHAMPTON    |7.925    |\n",
      "|1           |1        |0        |FIRST    |WOMAN  |SOUTHAMPTON    |53.1     |\n",
      "|0           |0        |0        |THIRD    |MAN    |SOUTHAMPTON    |8.05     |\n",
      "|0           |0        |0        |THIRD    |MAN    |QUEENSTOWN     |8.4583   |\n",
      "|0           |0        |0        |FIRST    |MAN    |SOUTHAMPTON    |51.8625  |\n",
      "|0           |3        |1        |THIRD    |CHILD  |SOUTHAMPTON    |21.075   |\n",
      "|1           |0        |2        |THIRD    |WOMAN  |SOUTHAMPTON    |11.1333  |\n",
      "|1           |1        |0        |SECOND   |CHILD  |CHERBOURG      |30.0708  |\n",
      "------------------------------------------------------------------------------\n",
      "\n"
     ]
    }
   ],
   "source": [
    "titanic_df = titanic_df.withColumn(\"FARE\", titanic_df[\"FARE\"].astype(T.FloatType()))\n",
    "\n",
    "titanic_df.show()"
   ]
  },
  {
   "cell_type": "code",
   "execution_count": 28,
   "metadata": {},
   "outputs": [],
   "source": [
    "cat_cols = [\"CLASS\", \"WHO\", \"EMBARK_TOWN\"]\n",
    "num_cols = [\"SIBSP\", \"PARCH\", \"FARE\"]"
   ]
  },
  {
   "cell_type": "code",
   "execution_count": 29,
   "metadata": {},
   "outputs": [
    {
     "name": "stdout",
     "output_type": "stream",
     "text": [
      "------------------------------------------------------------------------------\n",
      "|\"CLASS\"  |\"WHO\"  |\"EMBARK_TOWN\"  |\"SURVIVED\"  |\"SIBSP\"  |\"PARCH\"  |\"FARE\"   |\n",
      "------------------------------------------------------------------------------\n",
      "|THIRD    |MAN    |SOUTHAMPTON    |0           |1        |0        |7.25     |\n",
      "|FIRST    |WOMAN  |CHERBOURG      |1           |1        |0        |71.2833  |\n",
      "|THIRD    |WOMAN  |SOUTHAMPTON    |1           |0        |0        |7.925    |\n",
      "|FIRST    |WOMAN  |SOUTHAMPTON    |1           |1        |0        |53.1     |\n",
      "|THIRD    |MAN    |SOUTHAMPTON    |0           |0        |0        |8.05     |\n",
      "|THIRD    |MAN    |QUEENSTOWN     |0           |0        |0        |8.4583   |\n",
      "|FIRST    |MAN    |SOUTHAMPTON    |0           |0        |0        |51.8625  |\n",
      "|THIRD    |CHILD  |SOUTHAMPTON    |0           |3        |1        |21.075   |\n",
      "|THIRD    |WOMAN  |SOUTHAMPTON    |1           |0        |2        |11.1333  |\n",
      "|SECOND   |CHILD  |CHERBOURG      |1           |1        |0        |30.0708  |\n",
      "------------------------------------------------------------------------------\n",
      "\n"
     ]
    }
   ],
   "source": [
    "impute_cat = SimpleImputer(\n",
    "    input_cols=cat_cols,\n",
    "    output_cols=cat_cols,\n",
    "    strategy=\"most_frequent\",\n",
    "    drop_input_cols=True,\n",
    ")\n",
    "\n",
    "titanic_df = impute_cat.fit(titanic_df).transform(titanic_df)\n",
    "titanic_df.show()"
   ]
  },
  {
   "cell_type": "code",
   "execution_count": 30,
   "metadata": {},
   "outputs": [
    {
     "name": "stdout",
     "output_type": "stream",
     "text": [
      "--------------------------------------------------------------------------------------------------------------------------------------------------------------\n",
      "|\"CLASS_SECOND\"  |\"CLASS_THIRD\"  |\"WHO_MAN\"  |\"WHO_WOMAN\"  |\"EMBARK_TOWN_QUEENSTOWN\"  |\"EMBARK_TOWN_SOUTHAMPTON\"  |\"SURVIVED\"  |\"SIBSP\"  |\"PARCH\"  |\"FARE\"   |\n",
      "--------------------------------------------------------------------------------------------------------------------------------------------------------------\n",
      "|0.0             |1.0            |1.0        |0.0          |0.0                       |1.0                        |0           |1        |0        |7.25     |\n",
      "|0.0             |0.0            |0.0        |1.0          |0.0                       |0.0                        |1           |1        |0        |71.2833  |\n",
      "|0.0             |1.0            |0.0        |1.0          |0.0                       |1.0                        |1           |0        |0        |7.925    |\n",
      "|0.0             |0.0            |0.0        |1.0          |0.0                       |1.0                        |1           |1        |0        |53.1     |\n",
      "|0.0             |1.0            |1.0        |0.0          |0.0                       |1.0                        |0           |0        |0        |8.05     |\n",
      "|0.0             |1.0            |1.0        |0.0          |1.0                       |0.0                        |0           |0        |0        |8.4583   |\n",
      "|0.0             |0.0            |1.0        |0.0          |0.0                       |1.0                        |0           |0        |0        |51.8625  |\n",
      "|0.0             |1.0            |0.0        |0.0          |0.0                       |1.0                        |0           |3        |1        |21.075   |\n",
      "|0.0             |1.0            |0.0        |1.0          |0.0                       |1.0                        |1           |0        |2        |11.1333  |\n",
      "|1.0             |0.0            |0.0        |0.0          |0.0                       |0.0                        |1           |1        |0        |30.0708  |\n",
      "--------------------------------------------------------------------------------------------------------------------------------------------------------------\n",
      "\n"
     ]
    }
   ],
   "source": [
    "OHE = OneHotEncoder(\n",
    "    input_cols=cat_cols,\n",
    "    output_cols=cat_cols,\n",
    "    drop_input_cols=True,\n",
    "    drop=\"first\",\n",
    "    handle_unknown=\"ignore\",\n",
    ")\n",
    "\n",
    "titanic_df = OHE.fit(titanic_df).transform(titanic_df)\n",
    "titanic_df.show()"
   ]
  },
  {
   "cell_type": "code",
   "execution_count": 31,
   "metadata": {},
   "outputs": [],
   "source": [
    "train_df, test_df = titanic_df.random_split(weights=[0.8, 0.2], seed=8)"
   ]
  },
  {
   "cell_type": "code",
   "execution_count": 32,
   "metadata": {},
   "outputs": [],
   "source": [
    "parameters = {\n",
    "    \"n_estimators\": [100, 200, 300, 400, 500],\n",
    "    \"learning_rate\": [0.1, 0.2, 0.3, 0.4, 0.5],\n",
    "}"
   ]
  },
  {
   "cell_type": "code",
   "execution_count": 33,
   "metadata": {},
   "outputs": [
    {
     "data": {
      "text/plain": [
       "[Row(status='Statement executed successfully.')]"
      ]
     },
     "execution_count": 33,
     "metadata": {},
     "output_type": "execute_result"
    }
   ],
   "source": [
    "session.sql(\n",
    "    f\"ALTER WAREHOUSE {session.get_current_warehouse()[1:-1]} SET WAREHOUSE_SIZE=LARGE;\"\n",
    ").collect()"
   ]
  },
  {
   "cell_type": "code",
   "execution_count": 34,
   "metadata": {},
   "outputs": [
    {
     "data": {
      "text/plain": [
       "<snowflake.ml.modeling.model_selection.grid_search_cv.GridSearchCV at 0x7f8480b96860>"
      ]
     },
     "execution_count": 34,
     "metadata": {},
     "output_type": "execute_result"
    }
   ],
   "source": [
    "grid_search = GridSearchCV(\n",
    "    estimator=XGBClassifier(),\n",
    "    param_grid=parameters,\n",
    "    n_jobs=-1,\n",
    "    scoring=\"accuracy\",\n",
    "    input_cols=train_df.drop(\"SURVIVED\").columns,\n",
    "    label_cols=\"SURVIVED\",\n",
    "    output_cols=\"PRED_SURVIVED\",\n",
    ")\n",
    "\n",
    "# Train\n",
    "grid_search.fit(train_df)"
   ]
  },
  {
   "cell_type": "code",
   "execution_count": 35,
   "metadata": {},
   "outputs": [
    {
     "data": {
      "text/plain": [
       "[Row(status='Statement executed successfully.')]"
      ]
     },
     "execution_count": 35,
     "metadata": {},
     "output_type": "execute_result"
    }
   ],
   "source": [
    "session.sql(\n",
    "    f\"ALTER WAREHOUSE {session.get_current_warehouse()[1:-1]} SET WAREHOUSE_SIZE=XSMALL;\"\n",
    ").collect()"
   ]
  },
  {
   "cell_type": "code",
   "execution_count": 36,
   "metadata": {},
   "outputs": [],
   "source": [
    "result = grid_search.predict(test_df)"
   ]
  },
  {
   "cell_type": "code",
   "execution_count": 37,
   "metadata": {},
   "outputs": [
    {
     "name": "stdout",
     "output_type": "stream",
     "text": [
      "Accuracy: 0.835106\n"
     ]
    }
   ],
   "source": [
    "accuracy = accuracy_score(\n",
    "    df=result, y_true_col_names=\"SURVIVED\", y_pred_col_names=\"PRED_SURVIVED\"\n",
    ")\n",
    "\n",
    "print(f\"Accuracy: {accuracy}\")"
   ]
  },
  {
   "cell_type": "code",
   "execution_count": 38,
   "metadata": {},
   "outputs": [
    {
     "data": {
      "text/html": [
       "<div>\n",
       "<style scoped>\n",
       "    .dataframe tbody tr th:only-of-type {\n",
       "        vertical-align: middle;\n",
       "    }\n",
       "\n",
       "    .dataframe tbody tr th {\n",
       "        vertical-align: top;\n",
       "    }\n",
       "\n",
       "    .dataframe thead th {\n",
       "        text-align: right;\n",
       "    }\n",
       "</style>\n",
       "<table border=\"1\" class=\"dataframe\">\n",
       "  <thead>\n",
       "    <tr style=\"text-align: right;\">\n",
       "      <th></th>\n",
       "      <th>accuracy</th>\n",
       "      <th>learning_rate</th>\n",
       "      <th>n_estimators</th>\n",
       "    </tr>\n",
       "  </thead>\n",
       "  <tbody>\n",
       "    <tr>\n",
       "      <th>0</th>\n",
       "      <td>0.809341</td>\n",
       "      <td>0.1</td>\n",
       "      <td>100</td>\n",
       "    </tr>\n",
       "    <tr>\n",
       "      <th>1</th>\n",
       "      <td>0.812229</td>\n",
       "      <td>0.1</td>\n",
       "      <td>200</td>\n",
       "    </tr>\n",
       "    <tr>\n",
       "      <th>2</th>\n",
       "      <td>0.812229</td>\n",
       "      <td>0.1</td>\n",
       "      <td>300</td>\n",
       "    </tr>\n",
       "    <tr>\n",
       "      <th>3</th>\n",
       "      <td>0.813658</td>\n",
       "      <td>0.1</td>\n",
       "      <td>400</td>\n",
       "    </tr>\n",
       "    <tr>\n",
       "      <th>4</th>\n",
       "      <td>0.815076</td>\n",
       "      <td>0.1</td>\n",
       "      <td>500</td>\n",
       "    </tr>\n",
       "  </tbody>\n",
       "</table>\n",
       "</div>"
      ],
      "text/plain": [
       "   accuracy  learning_rate  n_estimators\n",
       "0  0.809341            0.1           100\n",
       "1  0.812229            0.1           200\n",
       "2  0.812229            0.1           300\n",
       "3  0.813658            0.1           400\n",
       "4  0.815076            0.1           500"
      ]
     },
     "execution_count": 38,
     "metadata": {},
     "output_type": "execute_result"
    }
   ],
   "source": [
    "# Print each combination of hyperparameters with their accuracy\n",
    "results = grid_search.to_sklearn().cv_results_\n",
    "data = {\"accuracy\": results[\"mean_test_score\"]}\n",
    "for i, param in enumerate(results[\"params\"]):\n",
    "    for key, value in param.items():\n",
    "        if key not in data:\n",
    "            data[key] = [None] * len(results[\"params\"])\n",
    "        data[key][i] = value\n",
    "\n",
    "# Create DataFrame\n",
    "hp_df = pd.DataFrame(data)\n",
    "hp_df.head()"
   ]
  },
  {
   "cell_type": "markdown",
   "metadata": {},
   "source": [
    "# Model Registry\n"
   ]
  },
  {
   "cell_type": "code",
   "execution_count": 39,
   "metadata": {},
   "outputs": [],
   "source": [
    "optimal_model = grid_search.to_sklearn().best_estimator_\n",
    "optimal_n_estimators = optimal_model.n_estimators\n",
    "optimal_learning_rate = optimal_model.learning_rate\n",
    "optimal_accuracy = hp_df[\"accuracy\"][0]"
   ]
  },
  {
   "cell_type": "code",
   "execution_count": 40,
   "metadata": {},
   "outputs": [
    {
     "name": "stderr",
     "output_type": "stream",
     "text": [
      "WARNING:absl:The database DIAMONDS already exists. Skipping creation.\n",
      "WARNING:absl:The schema DIAMONDS.COMMON already exists. Skipping creation.\n"
     ]
    },
    {
     "name": "stderr",
     "output_type": "stream",
     "text": [
      "WARNING:snowflake.snowpark:ModelRegistry.set_metric() is in private preview since 0.2.0. Do not use it in production. \n",
      "WARNING:snowflake.snowpark:ModelRegistry.get_metrics() is in private preview since 0.2.0. Do not use it in production. \n"
     ]
    }
   ],
   "source": [
    "# Get sample input data to pass into the registry logging function\n",
    "X = train_df.drop(\"SURVIVED\").limit(100)\n",
    "\n",
    "db = identifier._get_unescaped_name(session.get_current_database())\n",
    "schema = identifier._get_unescaped_name(session.get_current_schema())\n",
    "\n",
    "# Define model name and version\n",
    "model_name = \"titanic\"\n",
    "model_version = 1\n",
    "\n",
    "# Create a registry and log the model\n",
    "registry = model_registry.ModelRegistry(\n",
    "    session=session, database_name=db, schema_name=schema, create_if_not_exists=True\n",
    ")\n",
    "\n",
    "registry.log_model(\n",
    "    model_name=model_name,\n",
    "    model_version=model_version,\n",
    "    model=optimal_model,\n",
    "    sample_input_data=X,\n",
    "    options={\n",
    "        \"embed_local_ml_library\": True,  # This option is enabled to pull latest dev code changes.\n",
    "        \"relax\": True,\n",
    "    },  # relax dependencies\n",
    ")\n",
    "\n",
    "# Add evaluation metric\n",
    "registry.set_metric(\n",
    "    model_name=model_name,\n",
    "    model_version=model_version,\n",
    "    metric_name=\"accuracy\",\n",
    "    metric_value=optimal_accuracy,\n",
    ")"
   ]
  },
  {
   "cell_type": "code",
   "execution_count": 41,
   "metadata": {},
   "outputs": [
    {
     "data": {
      "text/html": [
       "<div>\n",
       "<style scoped>\n",
       "    .dataframe tbody tr th:only-of-type {\n",
       "        vertical-align: middle;\n",
       "    }\n",
       "\n",
       "    .dataframe tbody tr th {\n",
       "        vertical-align: top;\n",
       "    }\n",
       "\n",
       "    .dataframe thead th {\n",
       "        text-align: right;\n",
       "    }\n",
       "</style>\n",
       "<table border=\"1\" class=\"dataframe\">\n",
       "  <thead>\n",
       "    <tr style=\"text-align: right;\">\n",
       "      <th></th>\n",
       "      <th>CREATION_CONTEXT</th>\n",
       "      <th>CREATION_ENVIRONMENT_SPEC</th>\n",
       "      <th>CREATION_ROLE</th>\n",
       "      <th>CREATION_TIME</th>\n",
       "      <th>ID</th>\n",
       "      <th>INPUT_SPEC</th>\n",
       "      <th>NAME</th>\n",
       "      <th>OUTPUT_SPEC</th>\n",
       "      <th>RUNTIME_ENVIRONMENT_SPEC</th>\n",
       "      <th>TYPE</th>\n",
       "      <th>URI</th>\n",
       "      <th>VERSION</th>\n",
       "      <th>ARTIFACT_IDS</th>\n",
       "      <th>DESCRIPTION</th>\n",
       "      <th>METRICS</th>\n",
       "      <th>TAGS</th>\n",
       "      <th>REGISTRATION_TIMESTAMP</th>\n",
       "    </tr>\n",
       "  </thead>\n",
       "  <tbody>\n",
       "    <tr>\n",
       "      <th>0</th>\n",
       "      <td>None</td>\n",
       "      <td>{\\n  \"python\": \"3.10.13\"\\n}</td>\n",
       "      <td>\"SYSADMIN\"</td>\n",
       "      <td>2023-12-19 11:05:06.454000-08:00</td>\n",
       "      <td>82d4834a9ea111ee938eaa665a459836</td>\n",
       "      <td>None</td>\n",
       "      <td>titanic_model</td>\n",
       "      <td>None</td>\n",
       "      <td>None</td>\n",
       "      <td>xgboost</td>\n",
       "      <td>sfc://DIAMONDS.COMMON.SNOWML_MODEL_82D4834A9EA...</td>\n",
       "      <td>3</td>\n",
       "      <td>None</td>\n",
       "      <td>None</td>\n",
       "      <td>{\\n  \"accuracy\": [\\n    0.8221377912867274,\\n ...</td>\n",
       "      <td>None</td>\n",
       "      <td>2023-12-19 11:05:07.904000-08:00</td>\n",
       "    </tr>\n",
       "    <tr>\n",
       "      <th>1</th>\n",
       "      <td>None</td>\n",
       "      <td>{\\n  \"python\": \"3.10.13\"\\n}</td>\n",
       "      <td>\"SYSADMIN\"</td>\n",
       "      <td>2024-01-04 13:36:44.161000-08:00</td>\n",
       "      <td>57f5703aab4911eeaf71acde48001122</td>\n",
       "      <td>None</td>\n",
       "      <td>titanic</td>\n",
       "      <td>None</td>\n",
       "      <td>None</td>\n",
       "      <td>xgboost</td>\n",
       "      <td>sfc://DIAMONDS.COMMON.SNOWML_MODEL_57F5703AAB4...</td>\n",
       "      <td>1</td>\n",
       "      <td>None</td>\n",
       "      <td>None</td>\n",
       "      <td>{\\n  \"accuracy\": 0.8093414387031409\\n}</td>\n",
       "      <td>None</td>\n",
       "      <td>2024-01-04 13:36:45.698000-08:00</td>\n",
       "    </tr>\n",
       "  </tbody>\n",
       "</table>\n",
       "</div>"
      ],
      "text/plain": [
       "  CREATION_CONTEXT    CREATION_ENVIRONMENT_SPEC CREATION_ROLE  \\\n",
       "0             None  {\\n  \"python\": \"3.10.13\"\\n}    \"SYSADMIN\"   \n",
       "1             None  {\\n  \"python\": \"3.10.13\"\\n}    \"SYSADMIN\"   \n",
       "\n",
       "                     CREATION_TIME                                ID  \\\n",
       "0 2023-12-19 11:05:06.454000-08:00  82d4834a9ea111ee938eaa665a459836   \n",
       "1 2024-01-04 13:36:44.161000-08:00  57f5703aab4911eeaf71acde48001122   \n",
       "\n",
       "  INPUT_SPEC           NAME OUTPUT_SPEC RUNTIME_ENVIRONMENT_SPEC     TYPE  \\\n",
       "0       None  titanic_model        None                     None  xgboost   \n",
       "1       None        titanic        None                     None  xgboost   \n",
       "\n",
       "                                                 URI VERSION ARTIFACT_IDS  \\\n",
       "0  sfc://DIAMONDS.COMMON.SNOWML_MODEL_82D4834A9EA...       3         None   \n",
       "1  sfc://DIAMONDS.COMMON.SNOWML_MODEL_57F5703AAB4...       1         None   \n",
       "\n",
       "  DESCRIPTION                                            METRICS  TAGS  \\\n",
       "0        None  {\\n  \"accuracy\": [\\n    0.8221377912867274,\\n ...  None   \n",
       "1        None             {\\n  \"accuracy\": 0.8093414387031409\\n}  None   \n",
       "\n",
       "            REGISTRATION_TIMESTAMP  \n",
       "0 2023-12-19 11:05:07.904000-08:00  \n",
       "1 2024-01-04 13:36:45.698000-08:00  "
      ]
     },
     "execution_count": 41,
     "metadata": {},
     "output_type": "execute_result"
    }
   ],
   "source": [
    "# Let's confirm it was added\n",
    "registry.list_models().to_pandas()"
   ]
  },
  {
   "cell_type": "code",
   "execution_count": 42,
   "metadata": {},
   "outputs": [],
   "source": [
    "# We can always get a reference to our registry using this function call\n",
    "model_ref = model_registry.ModelReference(\n",
    "    registry=registry, model_name=model_name, model_version=model_version\n",
    ")"
   ]
  },
  {
   "cell_type": "code",
   "execution_count": 44,
   "metadata": {},
   "outputs": [
    {
     "name": "stderr",
     "output_type": "stream",
     "text": [
      "WARNING:snowflake.snowpark:ModelRegistry.deploy() is in private preview since 0.2.0. Do not use it in production. \n"
     ]
    },
    {
     "data": {
      "text/plain": [
       "{'name': 'DIAMONDS.COMMON.survival_pred',\n",
       " 'platform': <TargetPlatform.WAREHOUSE: 'warehouse'>,\n",
       " 'target_method': 'predict',\n",
       " 'signature': ModelSignature(\n",
       "                     inputs=[\n",
       "                         FeatureSpec(dtype=DataType.DOUBLE, name='CLASS_SECOND'),\n",
       " \t\tFeatureSpec(dtype=DataType.DOUBLE, name='CLASS_THIRD'),\n",
       " \t\tFeatureSpec(dtype=DataType.DOUBLE, name='WHO_MAN'),\n",
       " \t\tFeatureSpec(dtype=DataType.DOUBLE, name='WHO_WOMAN'),\n",
       " \t\tFeatureSpec(dtype=DataType.DOUBLE, name='EMBARK_TOWN_QUEENSTOWN'),\n",
       " \t\tFeatureSpec(dtype=DataType.DOUBLE, name='EMBARK_TOWN_SOUTHAMPTON'),\n",
       " \t\tFeatureSpec(dtype=DataType.INT8, name='SIBSP'),\n",
       " \t\tFeatureSpec(dtype=DataType.INT8, name='PARCH'),\n",
       " \t\tFeatureSpec(dtype=DataType.DOUBLE, name='FARE')\n",
       "                     ],\n",
       "                     outputs=[\n",
       "                         FeatureSpec(dtype=DataType.INT64, name='output_feature_0')\n",
       "                     ]\n",
       "                 ),\n",
       " 'options': {'permanent_udf_stage_location': '@DIAMONDS.COMMON._SYSTEM_REGISTRY_DEPLOYMENTS_STAGE/survival_pred/'},\n",
       " 'details': {}}"
      ]
     },
     "execution_count": 44,
     "metadata": {},
     "output_type": "execute_result"
    }
   ],
   "source": [
    "model_deployment_name = \"survival_pred\"\n",
    "\n",
    "model_ref.deploy(\n",
    "    deployment_name=\"survival_pred\",\n",
    "    target_method=\"predict\",  # the name of the model's method, usually predict\n",
    "    permanent=True,\n",
    ")"
   ]
  },
  {
   "cell_type": "code",
   "execution_count": 45,
   "metadata": {},
   "outputs": [
    {
     "name": "stderr",
     "output_type": "stream",
     "text": [
      "WARNING:snowflake.snowpark:ModelRegistry.list_deployments() is in private preview since 1.0.1. Do not use it in production. \n"
     ]
    },
    {
     "data": {
      "text/html": [
       "<div>\n",
       "<style scoped>\n",
       "    .dataframe tbody tr th:only-of-type {\n",
       "        vertical-align: middle;\n",
       "    }\n",
       "\n",
       "    .dataframe tbody tr th {\n",
       "        vertical-align: top;\n",
       "    }\n",
       "\n",
       "    .dataframe thead th {\n",
       "        text-align: right;\n",
       "    }\n",
       "</style>\n",
       "<table border=\"1\" class=\"dataframe\">\n",
       "  <thead>\n",
       "    <tr style=\"text-align: right;\">\n",
       "      <th></th>\n",
       "      <th>MODEL_NAME</th>\n",
       "      <th>MODEL_VERSION</th>\n",
       "      <th>DEPLOYMENT_NAME</th>\n",
       "      <th>CREATION_TIME</th>\n",
       "      <th>TARGET_METHOD</th>\n",
       "      <th>TARGET_PLATFORM</th>\n",
       "      <th>SIGNATURE</th>\n",
       "      <th>OPTIONS</th>\n",
       "      <th>STAGE_PATH</th>\n",
       "      <th>ROLE</th>\n",
       "    </tr>\n",
       "  </thead>\n",
       "  <tbody>\n",
       "    <tr>\n",
       "      <th>0</th>\n",
       "      <td>titanic</td>\n",
       "      <td>1</td>\n",
       "      <td>survival_pred</td>\n",
       "      <td>2024-01-04 13:38:00.529000-08:00</td>\n",
       "      <td>predict</td>\n",
       "      <td>warehouse</td>\n",
       "      <td>{\\n  \"inputs\": [\\n    {\\n      \"name\": \"CLASS_...</td>\n",
       "      <td>{\\n  \"permanent_udf_stage_location\": \"@DIAMOND...</td>\n",
       "      <td>@DIAMONDS.COMMON._SYSTEM_REGISTRY_DEPLOYMENTS_...</td>\n",
       "      <td>\"SYSADMIN\"</td>\n",
       "    </tr>\n",
       "  </tbody>\n",
       "</table>\n",
       "</div>"
      ],
      "text/plain": [
       "  MODEL_NAME MODEL_VERSION DEPLOYMENT_NAME                    CREATION_TIME  \\\n",
       "0    titanic             1   survival_pred 2024-01-04 13:38:00.529000-08:00   \n",
       "\n",
       "  TARGET_METHOD TARGET_PLATFORM  \\\n",
       "0       predict       warehouse   \n",
       "\n",
       "                                           SIGNATURE  \\\n",
       "0  {\\n  \"inputs\": [\\n    {\\n      \"name\": \"CLASS_...   \n",
       "\n",
       "                                             OPTIONS  \\\n",
       "0  {\\n  \"permanent_udf_stage_location\": \"@DIAMOND...   \n",
       "\n",
       "                                          STAGE_PATH        ROLE  \n",
       "0  @DIAMONDS.COMMON._SYSTEM_REGISTRY_DEPLOYMENTS_...  \"SYSADMIN\"  "
      ]
     },
     "execution_count": 45,
     "metadata": {},
     "output_type": "execute_result"
    }
   ],
   "source": [
    "# Let's confirm it was added\n",
    "registry.list_deployments(model_name, model_version).to_pandas()"
   ]
  },
  {
   "cell_type": "code",
   "execution_count": 46,
   "metadata": {},
   "outputs": [
    {
     "name": "stderr",
     "output_type": "stream",
     "text": [
      "WARNING:snowflake.snowpark:ModelReference.predict() is in private preview since 0.2.0. Do not use it in production. \n",
      "WARNING:snowflake.snowpark:ModelRegistry.get_deployment() is in private preview since 1.0.1. Do not use it in production. \n",
      "/Users/twhite/micromamba/envs/Intro_SnowML/lib/python3.10/site-packages/snowflake/ml/model/model_signature.py:310: RuntimeWarning: Warn in feature CLASS_SECOND: Nullable column CLASS_SECOND provided, inference might fail if there is null value.\n",
      "  warnings.warn(\n",
      "/Users/twhite/micromamba/envs/Intro_SnowML/lib/python3.10/site-packages/snowflake/ml/model/model_signature.py:310: RuntimeWarning: Warn in feature CLASS_THIRD: Nullable column CLASS_THIRD provided, inference might fail if there is null value.\n",
      "  warnings.warn(\n",
      "/Users/twhite/micromamba/envs/Intro_SnowML/lib/python3.10/site-packages/snowflake/ml/model/model_signature.py:310: RuntimeWarning: Warn in feature WHO_MAN: Nullable column WHO_MAN provided, inference might fail if there is null value.\n",
      "  warnings.warn(\n",
      "/Users/twhite/micromamba/envs/Intro_SnowML/lib/python3.10/site-packages/snowflake/ml/model/model_signature.py:310: RuntimeWarning: Warn in feature WHO_WOMAN: Nullable column WHO_WOMAN provided, inference might fail if there is null value.\n",
      "  warnings.warn(\n",
      "/Users/twhite/micromamba/envs/Intro_SnowML/lib/python3.10/site-packages/snowflake/ml/model/model_signature.py:310: RuntimeWarning: Warn in feature EMBARK_TOWN_QUEENSTOWN: Nullable column EMBARK_TOWN_QUEENSTOWN provided, inference might fail if there is null value.\n",
      "  warnings.warn(\n",
      "/Users/twhite/micromamba/envs/Intro_SnowML/lib/python3.10/site-packages/snowflake/ml/model/model_signature.py:310: RuntimeWarning: Warn in feature EMBARK_TOWN_SOUTHAMPTON: Nullable column EMBARK_TOWN_SOUTHAMPTON provided, inference might fail if there is null value.\n",
      "  warnings.warn(\n",
      "/Users/twhite/micromamba/envs/Intro_SnowML/lib/python3.10/site-packages/snowflake/ml/model/model_signature.py:310: RuntimeWarning: Warn in feature SIBSP: Nullable column SIBSP provided, inference might fail if there is null value.\n",
      "  warnings.warn(\n",
      "/Users/twhite/micromamba/envs/Intro_SnowML/lib/python3.10/site-packages/snowflake/ml/model/model_signature.py:310: RuntimeWarning: Warn in feature PARCH: Nullable column PARCH provided, inference might fail if there is null value.\n",
      "  warnings.warn(\n",
      "/Users/twhite/micromamba/envs/Intro_SnowML/lib/python3.10/site-packages/snowflake/ml/model/model_signature.py:310: RuntimeWarning: Warn in feature FARE: Nullable column FARE provided, inference might fail if there is null value.\n",
      "  warnings.warn(\n"
     ]
    },
    {
     "name": "stdout",
     "output_type": "stream",
     "text": [
      "------------------------------------------------------------------------------------------------------------------------------------------------------------------------------------\n",
      "|\"CLASS_SECOND\"  |\"CLASS_THIRD\"  |\"WHO_MAN\"  |\"WHO_WOMAN\"  |\"EMBARK_TOWN_QUEENSTOWN\"  |\"EMBARK_TOWN_SOUTHAMPTON\"  |\"SURVIVED\"  |\"SIBSP\"  |\"PARCH\"  |\"FARE\"    |\"output_feature_0\"  |\n",
      "------------------------------------------------------------------------------------------------------------------------------------------------------------------------------------\n",
      "|0.0             |1.0            |1.0        |0.0          |1.0                       |0.0                        |0           |0        |0        |8.4583    |0                   |\n",
      "|0.0             |0.0            |1.0        |0.0          |0.0                       |1.0                        |0           |0        |0        |51.8625   |0                   |\n",
      "|0.0             |1.0            |0.0        |0.0          |0.0                       |1.0                        |0           |3        |1        |21.075    |0                   |\n",
      "|1.0             |0.0            |0.0        |0.0          |0.0                       |0.0                        |1           |1        |0        |30.0708   |1                   |\n",
      "|0.0             |1.0            |1.0        |0.0          |0.0                       |1.0                        |0           |1        |5        |31.275    |0                   |\n",
      "|1.0             |0.0            |0.0        |1.0          |0.0                       |1.0                        |1           |0        |0        |16.0      |1                   |\n",
      "|0.0             |1.0            |0.0        |0.0          |0.0                       |1.0                        |0           |3        |1        |21.075    |0                   |\n",
      "|0.0             |1.0            |1.0        |0.0          |0.0                       |1.0                        |0           |0        |0        |7.8958    |0                   |\n",
      "|0.0             |0.0            |0.0        |1.0          |0.0                       |0.0                        |1           |1        |0        |146.5208  |1                   |\n",
      "|0.0             |0.0            |1.0        |0.0          |0.0                       |0.0                        |0           |1        |0        |82.1708   |1                   |\n",
      "------------------------------------------------------------------------------------------------------------------------------------------------------------------------------------\n",
      "\n"
     ]
    }
   ],
   "source": [
    "# We can then use the deployed model to perform inference\n",
    "result_sdf = model_ref.predict(deployment_name=\"survival_pred\", data=test_df)\n",
    "# result_sdf.rename(F.col('\"output_feature_0\"'),\"PREDICTED_PRICE\").show()\n",
    "result_sdf.show()"
   ]
  },
  {
   "cell_type": "code",
   "execution_count": 47,
   "metadata": {},
   "outputs": [
    {
     "name": "stdout",
     "output_type": "stream",
     "text": [
      "------------------------------------------------------------------------------------------------------------------------------------------------------------------------------------\n",
      "|\"CLASS_SECOND\"  |\"CLASS_THIRD\"  |\"WHO_MAN\"  |\"WHO_WOMAN\"  |\"EMBARK_TOWN_QUEENSTOWN\"  |\"EMBARK_TOWN_SOUTHAMPTON\"  |\"SURVIVED\"  |\"SIBSP\"  |\"PARCH\"  |\"FARE\"    |\"output_feature_0\"  |\n",
      "------------------------------------------------------------------------------------------------------------------------------------------------------------------------------------\n",
      "|0.0             |1.0            |1.0        |0.0          |1.0                       |0.0                        |0           |0        |0        |8.4583    |0                   |\n",
      "|0.0             |0.0            |1.0        |0.0          |0.0                       |1.0                        |0           |0        |0        |51.8625   |0                   |\n",
      "|0.0             |1.0            |0.0        |0.0          |0.0                       |1.0                        |0           |3        |1        |21.075    |0                   |\n",
      "|1.0             |0.0            |0.0        |0.0          |0.0                       |0.0                        |1           |1        |0        |30.0708   |1                   |\n",
      "|0.0             |1.0            |1.0        |0.0          |0.0                       |1.0                        |0           |1        |5        |31.275    |0                   |\n",
      "|1.0             |0.0            |0.0        |1.0          |0.0                       |1.0                        |1           |0        |0        |16.0      |1                   |\n",
      "|0.0             |1.0            |0.0        |0.0          |0.0                       |1.0                        |0           |3        |1        |21.075    |0                   |\n",
      "|0.0             |1.0            |1.0        |0.0          |0.0                       |1.0                        |0           |0        |0        |7.8958    |0                   |\n",
      "|0.0             |0.0            |0.0        |1.0          |0.0                       |0.0                        |1           |1        |0        |146.5208  |1                   |\n",
      "|0.0             |0.0            |1.0        |0.0          |0.0                       |0.0                        |0           |1        |0        |82.1708   |1                   |\n",
      "------------------------------------------------------------------------------------------------------------------------------------------------------------------------------------\n",
      "\n"
     ]
    }
   ],
   "source": [
    "model_ref.predict(\"survival_pred\", test_df).show()"
   ]
  },
  {
   "cell_type": "code",
   "execution_count": 48,
   "metadata": {},
   "outputs": [],
   "source": [
    "test_df.write.mode(\"overwrite\").save_as_table(\"TEST_DATA\")"
   ]
  },
  {
   "cell_type": "code",
   "execution_count": 49,
   "metadata": {},
   "outputs": [
    {
     "data": {
      "text/plain": [
       "{'name': 'DIAMONDS.COMMON.survival_pred_proba',\n",
       " 'platform': <TargetPlatform.WAREHOUSE: 'warehouse'>,\n",
       " 'target_method': 'predict_proba',\n",
       " 'signature': ModelSignature(\n",
       "                     inputs=[\n",
       "                         FeatureSpec(dtype=DataType.DOUBLE, name='CLASS_SECOND'),\n",
       " \t\tFeatureSpec(dtype=DataType.DOUBLE, name='CLASS_THIRD'),\n",
       " \t\tFeatureSpec(dtype=DataType.DOUBLE, name='WHO_MAN'),\n",
       " \t\tFeatureSpec(dtype=DataType.DOUBLE, name='WHO_WOMAN'),\n",
       " \t\tFeatureSpec(dtype=DataType.DOUBLE, name='EMBARK_TOWN_QUEENSTOWN'),\n",
       " \t\tFeatureSpec(dtype=DataType.DOUBLE, name='EMBARK_TOWN_SOUTHAMPTON'),\n",
       " \t\tFeatureSpec(dtype=DataType.INT8, name='SIBSP'),\n",
       " \t\tFeatureSpec(dtype=DataType.INT8, name='PARCH'),\n",
       " \t\tFeatureSpec(dtype=DataType.DOUBLE, name='FARE')\n",
       "                     ],\n",
       "                     outputs=[\n",
       "                         FeatureSpec(dtype=DataType.FLOAT, name='output_feature_0'),\n",
       " \t\tFeatureSpec(dtype=DataType.FLOAT, name='output_feature_1')\n",
       "                     ]\n",
       "                 ),\n",
       " 'options': {'permanent_udf_stage_location': '@DIAMONDS.COMMON._SYSTEM_REGISTRY_DEPLOYMENTS_STAGE/survival_pred_proba/'},\n",
       " 'details': {}}"
      ]
     },
     "execution_count": 49,
     "metadata": {},
     "output_type": "execute_result"
    }
   ],
   "source": [
    "model_deployment_name = \"survival_pred_proba\"\n",
    "\n",
    "model_ref.deploy(\n",
    "    deployment_name=\"survival_pred_proba\",\n",
    "    target_method=\"predict_proba\",  # the name of the model's method, usually predict\n",
    "    permanent=True,\n",
    ")"
   ]
  },
  {
   "cell_type": "code",
   "execution_count": 50,
   "metadata": {},
   "outputs": [
    {
     "name": "stdout",
     "output_type": "stream",
     "text": [
      "----------------------------------------------------------------------------------------------------------------------------------------------------------------------------------------------------------------\n",
      "|\"CLASS_SECOND\"  |\"CLASS_THIRD\"  |\"WHO_MAN\"  |\"WHO_WOMAN\"  |\"EMBARK_TOWN_QUEENSTOWN\"  |\"EMBARK_TOWN_SOUTHAMPTON\"  |\"SURVIVED\"  |\"SIBSP\"  |\"PARCH\"  |\"FARE\"    |\"output_feature_0\"      |\"output_feature_1\"     |\n",
      "----------------------------------------------------------------------------------------------------------------------------------------------------------------------------------------------------------------\n",
      "|0.0             |1.0            |1.0        |0.0          |1.0                       |0.0                        |0           |0        |0        |8.4583    |0.9997681379318236      |0.0002318472834303975  |\n",
      "|0.0             |0.0            |1.0        |0.0          |0.0                       |1.0                        |0           |0        |0        |51.8625   |0.9810309410095216      |0.018969036638736725   |\n",
      "|0.0             |1.0            |0.0        |0.0          |0.0                       |1.0                        |0           |3        |1        |21.075    |0.9699953198432922      |0.03000466153025627    |\n",
      "|1.0             |0.0            |0.0        |0.0          |0.0                       |0.0                        |1           |1        |0        |30.0708   |0.0001742243766784668   |0.9998257756233216     |\n",
      "|0.0             |1.0            |1.0        |0.0          |0.0                       |1.0                        |0           |1        |5        |31.275    |0.9918291568756104      |0.008170819841325283   |\n",
      "|1.0             |0.0            |0.0        |1.0          |0.0                       |1.0                        |1           |0        |0        |16.0      |0.0032642483711242676   |0.9967357516288756     |\n",
      "|0.0             |1.0            |0.0        |0.0          |0.0                       |1.0                        |0           |3        |1        |21.075    |0.9699953198432922      |0.03000466153025627    |\n",
      "|0.0             |1.0            |1.0        |0.0          |0.0                       |1.0                        |0           |0        |0        |7.8958    |0.997236430644989       |0.0027635558508336544  |\n",
      "|0.0             |0.0            |0.0        |1.0          |0.0                       |0.0                        |1           |1        |0        |146.5208  |3.6954879760742188e-06  |0.999996304512024      |\n",
      "|0.0             |0.0            |1.0        |0.0          |0.0                       |0.0                        |0           |1        |0        |82.1708   |0.2171698212623596      |0.7828301787376404     |\n",
      "----------------------------------------------------------------------------------------------------------------------------------------------------------------------------------------------------------------\n",
      "\n"
     ]
    }
   ],
   "source": [
    "model_ref.predict(\"survival_pred_proba\", test_df).drop(\"output_feature_0\").show()"
   ]
  },
  {
   "cell_type": "markdown",
   "metadata": {},
   "source": [
    "## Add images to stage for Streamlit App\n"
   ]
  },
  {
   "cell_type": "code",
   "execution_count": 51,
   "metadata": {},
   "outputs": [
    {
     "data": {
      "text/plain": [
       "[PutResult(source='flying.webp', target='flying.webp.gz', source_size=77798, target_size=76928, source_compression='NONE', target_compression='GZIP', status='UPLOADED', message='')]"
      ]
     },
     "execution_count": 51,
     "metadata": {},
     "output_type": "execute_result"
    }
   ],
   "source": [
    "session.file.put(\"floating.webp\", \"@ML_DATA\")\n",
    "session.file.put(\"sinking.webp\", \"@ML_DATA\")\n",
    "session.file.put(\"flying.webp\", \"@ML_DATA\")"
   ]
  }
 ],
 "metadata": {
  "kernelspec": {
   "display_name": "Python 3",
   "language": "python",
   "name": "python3"
  },
  "language_info": {
   "codemirror_mode": {
    "name": "ipython",
    "version": 3
   },
   "file_extension": ".py",
   "mimetype": "text/x-python",
   "name": "python",
   "nbconvert_exporter": "python",
   "pygments_lexer": "ipython3",
   "version": "3.10.13"
  }
 },
 "nbformat": 4,
 "nbformat_minor": 2
}
